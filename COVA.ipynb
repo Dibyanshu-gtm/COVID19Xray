{
 "cells": [
  {
   "cell_type": "markdown",
   "metadata": {},
   "source": [
    "# COVID 19 X Ray Comparison"
   ]
  },
  {
   "cell_type": "code",
   "execution_count": 1,
   "metadata": {},
   "outputs": [],
   "source": [
    "from tensorflow.keras.preprocessing.image import ImageDataGenerator\n",
    "from tensorflow.keras.applications import VGG16\n",
    "from tensorflow.keras.layers import AveragePooling2D\n",
    "from tensorflow.keras.layers import Dropout\n",
    "from tensorflow.keras.layers import Flatten\n",
    "from tensorflow.keras.layers import Dense\n",
    "from tensorflow.keras.layers import Input\n",
    "from tensorflow.keras.models import Model\n",
    "from tensorflow.keras.optimizers import Adam\n",
    "from tensorflow.keras.utils import to_categorical\n",
    "from sklearn.preprocessing import LabelBinarizer\n",
    "from sklearn.model_selection import train_test_split\n",
    "from sklearn.metrics import classification_report\n",
    "from sklearn.metrics import confusion_matrix\n",
    "from imutils import paths\n",
    "import matplotlib.pyplot as plt\n",
    "import numpy as np\n",
    "import argparse\n",
    "import cv2\n",
    "import os"
   ]
  },
  {
   "cell_type": "code",
   "execution_count": 2,
   "metadata": {},
   "outputs": [],
   "source": [
    "\n",
    "\n",
    "# initialize the initial learning rate, number of epochs to train for,\n",
    "# and batch size\n",
    "INIT_LR = 1e-3\n",
    "EPOCHS = 25\n",
    "BS = 8"
   ]
  },
  {
   "cell_type": "code",
   "execution_count": 3,
   "metadata": {},
   "outputs": [
    {
     "name": "stdout",
     "output_type": "stream",
     "text": [
      "[INFO] loading images...\n"
     ]
    }
   ],
   "source": [
    "\n",
    "print(\"[INFO] loading images...\")\n",
    "imagePaths = list(paths.list_images(\"C:\\\\Users\\\\Dibs\\\\COVID19DL\\\\keras-covid-19\\\\dataset\"))\n",
    "data = []\n",
    "labels = []\n",
    "# loop over the image paths and extracting labels of data \n",
    "for imagePath in imagePaths:\n",
    "\n",
    "    label = imagePath.split(os.path.sep)[-2]\n",
    "    image = cv2.imread(imagePath)\n",
    "    image = cv2.cvtColor(image, cv2.COLOR_BGR2RGB)\n",
    "    image = cv2.resize(image, (224, 224))\n",
    "\n",
    "    data.append(image)\n",
    "    labels.append(label)\n",
    "\n",
    "data = np.array(data) / 255.0\n",
    "labels = np.array(labels)"
   ]
  },
  {
   "cell_type": "code",
   "execution_count": 4,
   "metadata": {},
   "outputs": [],
   "source": [
    "\n",
    "lb = LabelBinarizer()\n",
    "labels = lb.fit_transform(labels)\n",
    "labels = to_categorical(labels)\n",
    "\n",
    "(trainX, testX, trainY, testY) = train_test_split(data, labels,test_size=0.20, stratify=labels, random_state=42)\n",
    "\n",
    "trainAug = ImageDataGenerator(rotation_range=15,fill_mode=\"nearest\")"
   ]
  },
  {
   "cell_type": "code",
   "execution_count": 5,
   "metadata": {},
   "outputs": [
    {
     "name": "stdout",
     "output_type": "stream",
     "text": [
      "WARNING:tensorflow:From C:\\Users\\Dibs\\Anaconda3\\lib\\site-packages\\tensorflow\\python\\ops\\init_ops.py:1251: calling VarianceScaling.__init__ (from tensorflow.python.ops.init_ops) with dtype is deprecated and will be removed in a future version.\n",
      "Instructions for updating:\n",
      "Call initializer instance with the dtype argument instead of passing it to the constructor\n",
      "A local file was found, but it seems to be incomplete or outdated because the auto file hash does not match the original value of 6d6bbae143d832006294945121d1f1fc so we will re-download the data.\n",
      "Downloading data from https://github.com/fchollet/deep-learning-models/releases/download/v0.1/vgg16_weights_tf_dim_ordering_tf_kernels_notop.h5\n",
      "58892288/58889256 [==============================] - 191s 3us/step\n"
     ]
    }
   ],
   "source": [
    "baseModel = VGG16(weights=\"imagenet\", include_top=False,input_tensor=Input(shape=(224, 224, 3)))\n",
    "\n",
    "headModel = baseModel.output\n",
    "headModel = AveragePooling2D(pool_size=(4, 4))(headModel)\n",
    "headModel = Flatten(name=\"flatten\")(headModel)\n",
    "headModel = Dense(64, activation=\"relu\")(headModel)\n",
    "headModel = Dropout(0.5)(headModel)\n",
    "headModel = Dense(2, activation=\"softmax\")(headModel)\n",
    "\n",
    "model = Model(inputs=baseModel.input, outputs=headModel)\n",
    "\n",
    "for layer in baseModel.layers:\n",
    "    layer.trainable = False"
   ]
  },
  {
   "cell_type": "code",
   "execution_count": 6,
   "metadata": {},
   "outputs": [
    {
     "name": "stdout",
     "output_type": "stream",
     "text": [
      "[INFO] compiling model...\n",
      "[INFO] training head...\n",
      "Epoch 1/25\n",
      "WARNING:tensorflow:From C:\\Users\\Dibs\\Anaconda3\\lib\\site-packages\\tensorflow\\python\\ops\\math_grad.py:1250: add_dispatch_support.<locals>.wrapper (from tensorflow.python.ops.array_ops) is deprecated and will be removed in a future version.\n",
      "Instructions for updating:\n",
      "Use tf.where in 2.0, which has the same broadcast rule as np.where\n",
      "5/5 [==============================] - 153s 31s/step - loss: 1.0562 - acc: 0.4750 - val_loss: 0.7636 - val_acc: 0.5000\n",
      "Epoch 2/25\n",
      "5/5 [==============================] - 142s 28s/step - loss: 0.7659 - acc: 0.5500 - val_loss: 0.6517 - val_acc: 0.5000\n",
      "Epoch 3/25\n",
      "5/5 [==============================] - 142s 28s/step - loss: 0.9344 - acc: 0.5000 - val_loss: 0.6748 - val_acc: 0.5000\n",
      "Epoch 4/25\n",
      "5/5 [==============================] - 142s 28s/step - loss: 0.8211 - acc: 0.4750 - val_loss: 0.6196 - val_acc: 0.7000\n",
      "Epoch 5/25\n",
      "5/5 [==============================] - 142s 28s/step - loss: 0.8018 - acc: 0.4750 - val_loss: 0.6325 - val_acc: 0.6000\n",
      "Epoch 6/25\n",
      "5/5 [==============================] - 142s 28s/step - loss: 0.6404 - acc: 0.7000 - val_loss: 0.6278 - val_acc: 0.6000\n",
      "Epoch 7/25\n",
      "5/5 [==============================] - 142s 28s/step - loss: 0.6476 - acc: 0.6500 - val_loss: 0.6097 - val_acc: 0.6000\n",
      "Epoch 8/25\n",
      "5/5 [==============================] - 142s 28s/step - loss: 0.6646 - acc: 0.6750 - val_loss: 0.5855 - val_acc: 0.9000\n",
      "Epoch 9/25\n",
      "5/5 [==============================] - 142s 28s/step - loss: 0.6054 - acc: 0.7000 - val_loss: 0.5750 - val_acc: 0.9000\n",
      "Epoch 10/25\n",
      "5/5 [==============================] - 142s 28s/step - loss: 0.5478 - acc: 0.7500 - val_loss: 0.5650 - val_acc: 1.0000\n",
      "Epoch 11/25\n",
      "5/5 [==============================] - 149s 30s/step - loss: 0.5846 - acc: 0.6750 - val_loss: 0.5560 - val_acc: 1.0000\n",
      "Epoch 12/25\n",
      "5/5 [==============================] - 142s 28s/step - loss: 0.5167 - acc: 0.7750 - val_loss: 0.5522 - val_acc: 0.9000\n",
      "Epoch 13/25\n",
      "5/5 [==============================] - 142s 28s/step - loss: 0.4615 - acc: 0.8750 - val_loss: 0.5593 - val_acc: 0.6000\n",
      "Epoch 14/25\n",
      "5/5 [==============================] - 142s 28s/step - loss: 0.5209 - acc: 0.7250 - val_loss: 0.5418 - val_acc: 0.7000\n",
      "Epoch 15/25\n",
      "5/5 [==============================] - 147s 29s/step - loss: 0.5072 - acc: 0.8250 - val_loss: 0.5081 - val_acc: 0.9000\n",
      "Epoch 16/25\n",
      "5/5 [==============================] - 143s 29s/step - loss: 0.5466 - acc: 0.7750 - val_loss: 0.4938 - val_acc: 1.0000\n",
      "Epoch 17/25\n",
      "5/5 [==============================] - 149s 30s/step - loss: 0.4360 - acc: 0.8250 - val_loss: 0.4828 - val_acc: 1.0000\n",
      "Epoch 18/25\n",
      "5/5 [==============================] - 164s 33s/step - loss: 0.4544 - acc: 0.8250 - val_loss: 0.4724 - val_acc: 1.0000\n",
      "Epoch 19/25\n",
      "5/5 [==============================] - 151s 30s/step - loss: 0.4675 - acc: 0.8250 - val_loss: 0.4686 - val_acc: 0.9000\n",
      "Epoch 20/25\n",
      "5/5 [==============================] - 151s 30s/step - loss: 0.4576 - acc: 0.8250 - val_loss: 0.4578 - val_acc: 1.0000\n",
      "Epoch 21/25\n",
      "5/5 [==============================] - 151s 30s/step - loss: 0.4337 - acc: 0.8250 - val_loss: 0.4460 - val_acc: 1.0000\n",
      "Epoch 22/25\n",
      "5/5 [==============================] - 151s 30s/step - loss: 0.4066 - acc: 0.8750 - val_loss: 0.4340 - val_acc: 1.0000\n",
      "Epoch 23/25\n",
      "5/5 [==============================] - 151s 30s/step - loss: 0.4096 - acc: 0.9000 - val_loss: 0.4220 - val_acc: 1.0000\n",
      "Epoch 24/25\n",
      "5/5 [==============================] - 152s 30s/step - loss: 0.3463 - acc: 0.9250 - val_loss: 0.4050 - val_acc: 1.0000\n",
      "Epoch 25/25\n",
      "5/5 [==============================] - 149s 30s/step - loss: 0.3007 - acc: 0.9500 - val_loss: 0.3895 - val_acc: 1.0000\n"
     ]
    }
   ],
   "source": [
    "\n",
    "print(\"[INFO] compiling model...\")\n",
    "opt = Adam(lr=INIT_LR, decay=INIT_LR / EPOCHS)\n",
    "model.compile(loss=\"binary_crossentropy\", optimizer=opt,\n",
    "\tmetrics=[\"accuracy\"])\n",
    "\n",
    "print(\"[INFO] training head...\")\n",
    "H = model.fit_generator(\n",
    "\ttrainAug.flow(trainX, trainY, batch_size=BS),\n",
    "\tsteps_per_epoch=len(trainX) // BS,\n",
    "\tvalidation_data=(testX, testY),\n",
    "\tvalidation_steps=len(testX) // BS,\n",
    "\tepochs=EPOCHS)"
   ]
  },
  {
   "cell_type": "code",
   "execution_count": 7,
   "metadata": {},
   "outputs": [
    {
     "name": "stdout",
     "output_type": "stream",
     "text": [
      "[INFO] evaluating network...\n",
      "              precision    recall  f1-score   support\n",
      "\n",
      "       covid       1.00      1.00      1.00         5\n",
      "      normal       1.00      1.00      1.00         5\n",
      "\n",
      "    accuracy                           1.00        10\n",
      "   macro avg       1.00      1.00      1.00        10\n",
      "weighted avg       1.00      1.00      1.00        10\n",
      "\n"
     ]
    }
   ],
   "source": [
    "#\n",
    "print(\"[INFO] evaluating network...\")\n",
    "predIdxs = model.predict(testX, batch_size=BS)\n",
    "\n",
    "predIdxs = np.argmax(predIdxs, axis=1)\n",
    "\n",
    "print(classification_report(testY.argmax(axis=1), predIdxs,\n",
    "\ttarget_names=lb.classes_))"
   ]
  },
  {
   "cell_type": "code",
   "execution_count": 8,
   "metadata": {},
   "outputs": [
    {
     "name": "stdout",
     "output_type": "stream",
     "text": [
      "[[5 0]\n",
      " [0 5]]\n",
      "acc: 1.0000\n",
      "sensitivity: 1.0000\n",
      "specificity: 1.0000\n"
     ]
    }
   ],
   "source": [
    "cm = confusion_matrix(testY.argmax(axis=1), predIdxs)\n",
    "total = sum(sum(cm))\n",
    "acc = (cm[0, 0] + cm[1, 1]) / total\n",
    "sensitivity = cm[0, 0] / (cm[0, 0] + cm[0, 1])\n",
    "specificity = cm[1, 1] / (cm[1, 0] + cm[1, 1])\n",
    "\n",
    "print(cm)\n",
    "print(\"acc: {:.4f}\".format(acc))\n",
    "print(\"sensitivity: {:.4f}\".format(sensitivity))\n",
    "print(\"specificity: {:.4f}\".format(specificity))"
   ]
  },
  {
   "cell_type": "code",
   "execution_count": 11,
   "metadata": {},
   "outputs": [
    {
     "data": {
      "image/png": "[encoded data removed]",
      "text/plain": [
       "<Figure size 432x288 with 1 Axes>"
      ]
     },
     "metadata": {},
     "output_type": "display_data"
    }
   ],
   "source": [
    "N = EPOCHS\n",
    "plt.style.use(\"ggplot\")\n",
    "plt.figure()\n",
    "plt.plot(np.arange(0, N), H.history[\"loss\"], label=\"train_loss\")\n",
    "plt.plot(np.arange(0, N), H.history[\"val_loss\"], label=\"val_loss\")\n",
    "plt.plot(np.arange(0, N), H.history[\"acc\"], label=\"train_acc\")\n",
    "plt.plot(np.arange(0, N), H.history[\"val_acc\"], label=\"val_acc\")\n",
    "plt.title(\"Training Loss and Accuracy on COVID-19 Dataset\")\n",
    "plt.xlabel(\"Epoch #\")\n",
    "plt.ylabel(\"Loss/Accuracy\")\n",
    "plt.legend(loc=\"lower left\")\n",
    "plt.show()"
   ]
  },
  {
   "cell_type": "code",
   "execution_count": null,
   "metadata": {},
   "outputs": [],
   "source": []
  },
  {
   "cell_type": "code",
   "execution_count": null,
   "metadata": {},
   "outputs": [],
   "source": []
  }
 ],
 "metadata": {
  "kernelspec": {
   "display_name": "Python 3.6.5 64-bit ('base': conda)",
   "language": "python",
   "name": "python36564bitbasecondadec75130547e49c99ffa558474ce49d7"
  },
  "language_info": {
   "codemirror_mode": {
    "name": "ipython",
    "version": 3
   },
   "file_extension": ".py",
   "mimetype": "text/x-python",
   "name": "python",
   "nbconvert_exporter": "python",
   "pygments_lexer": "ipython3",
   "version": "3.6.5"
  }
 },
 "nbformat": 4,
 "nbformat_minor": 2
}
